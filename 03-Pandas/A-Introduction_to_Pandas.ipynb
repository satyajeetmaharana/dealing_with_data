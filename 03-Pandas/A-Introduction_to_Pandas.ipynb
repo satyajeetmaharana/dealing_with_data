{
  "nbformat": 4,
  "nbformat_minor": 0,
  "metadata": {
    "kernelspec": {
      "display_name": "Python 3",
      "language": "python",
      "name": "python3"
    },
    "language_info": {
      "codemirror_mode": {
        "name": "ipython",
        "version": 3
      },
      "file_extension": ".py",
      "mimetype": "text/x-python",
      "name": "python",
      "nbconvert_exporter": "python",
      "pygments_lexer": "ipython3",
      "version": "3.6.7"
    },
    "colab": {
      "name": "A-Introduction_to_Pandas.ipynb",
      "provenance": [],
      "include_colab_link": true
    }
  },
  "cells": [
    {
      "cell_type": "markdown",
      "metadata": {
        "id": "view-in-github",
        "colab_type": "text"
      },
      "source": [
        "<a href=\"https://colab.research.google.com/github/satyajeetmaharana/dealing_with_data/blob/master/03-Pandas/A-Introduction_to_Pandas.ipynb\" target=\"_parent\"><img src=\"https://colab.research.google.com/assets/colab-badge.svg\" alt=\"Open In Colab\"/></a>"
      ]
    },
    {
      "cell_type": "markdown",
      "metadata": {
        "id": "pUKHGuYqSBk1",
        "colab_type": "text"
      },
      "source": [
        "# Introduction to Pandas"
      ]
    },
    {
      "cell_type": "markdown",
      "metadata": {
        "id": "pPGyxvmJSBk4",
        "colab_type": "text"
      },
      "source": [
        "## Setup and preliminaries"
      ]
    },
    {
      "cell_type": "markdown",
      "metadata": {
        "id": "uoaJqmclSBk5",
        "colab_type": "text"
      },
      "source": [
        "We start this notebook by typing a \"magic\" command that allows iPython notebooks to display plots directly in the browser."
      ]
    },
    {
      "cell_type": "code",
      "metadata": {
        "id": "-yvuAq8nSBk6",
        "colab_type": "code",
        "colab": {}
      },
      "source": [
        "# Render our plots inline\n",
        "%matplotlib inline\n",
        "%config InlineBackend.figure_format = 'retina'"
      ],
      "execution_count": 0,
      "outputs": []
    },
    {
      "cell_type": "markdown",
      "metadata": {
        "id": "uI9_wxg4SBk-",
        "colab_type": "text"
      },
      "source": [
        "In order to read and process files, we are going to use a very powerful, and widely used Python library, called pandas. So, our next step is to import the pandas library in Python, and also import the library matplotlib for generating plots:"
      ]
    },
    {
      "cell_type": "code",
      "metadata": {
        "id": "ZwThzsEtSBk_",
        "colab_type": "code",
        "colab": {}
      },
      "source": [
        "import pandas as pd\n",
        "import matplotlib\n",
        "import matplotlib.pyplot as plt\n",
        "import seaborn as sns"
      ],
      "execution_count": 0,
      "outputs": []
    },
    {
      "cell_type": "markdown",
      "metadata": {
        "id": "Ni3qyGFJSBlB",
        "colab_type": "text"
      },
      "source": [
        "Pandas should already be installed on your machine, but if you get an error in the import statement above, indicating that pandas is not available, please uncomment the following command and execute:"
      ]
    },
    {
      "cell_type": "code",
      "metadata": {
        "id": "IzgB42KpSBlC",
        "colab_type": "code",
        "colab": {}
      },
      "source": [
        "# !sudo python3 -m pip install -U pandas"
      ],
      "execution_count": 0,
      "outputs": []
    },
    {
      "cell_type": "markdown",
      "metadata": {
        "id": "0uME4B82SBlF",
        "colab_type": "text"
      },
      "source": [
        "And we type some code to simply change the visual style of the plots. (The code below is optional and not necessary, and for now you do not need to understand what exactly is happening.)"
      ]
    },
    {
      "cell_type": "code",
      "metadata": {
        "id": "Kh4FZkWiSBlH",
        "colab_type": "code",
        "colab": {}
      },
      "source": [
        "# Make the graphs a bit bigger\n",
        "matplotlib.style.use(['seaborn-talk', 'seaborn-ticks', 'seaborn-whitegrid'])"
      ],
      "execution_count": 0,
      "outputs": []
    },
    {
      "cell_type": "markdown",
      "metadata": {
        "id": "NizkUq2bSBlK",
        "colab_type": "text"
      },
      "source": [
        "## Basic Example: Creating a DataFrame from Scratch\n",
        "\n",
        "This is an example of creating a dataframe by passing a list of dictionaries."
      ]
    },
    {
      "cell_type": "code",
      "metadata": {
        "id": "i0U5KHRzSBlK",
        "colab_type": "code",
        "colab": {}
      },
      "source": [
        "df = pd.DataFrame([ \n",
        "    {\"First Name\": \"Panos\", \"Last Name\":\" Ipeirotis\"},\n",
        "    {\"First Name\": \"John\", \"Last Name\":\" Doe\"},\n",
        "    {\"Last Name\":\"Trump\"}\n",
        "])\n"
      ],
      "execution_count": 0,
      "outputs": []
    },
    {
      "cell_type": "code",
      "metadata": {
        "id": "nAnQG4lJSBlN",
        "colab_type": "code",
        "colab": {
          "base_uri": "https://localhost:8080/",
          "height": 142
        },
        "outputId": "68f803cd-3421-447e-96a6-963a0cbde451"
      },
      "source": [
        "df"
      ],
      "execution_count": 6,
      "outputs": [
        {
          "output_type": "execute_result",
          "data": {
            "text/html": [
              "<div>\n",
              "<style scoped>\n",
              "    .dataframe tbody tr th:only-of-type {\n",
              "        vertical-align: middle;\n",
              "    }\n",
              "\n",
              "    .dataframe tbody tr th {\n",
              "        vertical-align: top;\n",
              "    }\n",
              "\n",
              "    .dataframe thead th {\n",
              "        text-align: right;\n",
              "    }\n",
              "</style>\n",
              "<table border=\"1\" class=\"dataframe\">\n",
              "  <thead>\n",
              "    <tr style=\"text-align: right;\">\n",
              "      <th></th>\n",
              "      <th>First Name</th>\n",
              "      <th>Last Name</th>\n",
              "    </tr>\n",
              "  </thead>\n",
              "  <tbody>\n",
              "    <tr>\n",
              "      <th>0</th>\n",
              "      <td>Panos</td>\n",
              "      <td>Ipeirotis</td>\n",
              "    </tr>\n",
              "    <tr>\n",
              "      <th>1</th>\n",
              "      <td>John</td>\n",
              "      <td>Doe</td>\n",
              "    </tr>\n",
              "    <tr>\n",
              "      <th>2</th>\n",
              "      <td>NaN</td>\n",
              "      <td>Trump</td>\n",
              "    </tr>\n",
              "  </tbody>\n",
              "</table>\n",
              "</div>"
            ],
            "text/plain": [
              "  First Name   Last Name\n",
              "0      Panos   Ipeirotis\n",
              "1       John         Doe\n",
              "2        NaN       Trump"
            ]
          },
          "metadata": {
            "tags": []
          },
          "execution_count": 6
        }
      ]
    },
    {
      "cell_type": "markdown",
      "metadata": {
        "id": "AFDRILc8SBlP",
        "colab_type": "text"
      },
      "source": [
        "## Analyzing Data in Files"
      ]
    },
    {
      "cell_type": "markdown",
      "metadata": {
        "id": "724Aj-kQSBlQ",
        "colab_type": "text"
      },
      "source": [
        "We will use a dataset with restaurant inspection results in NYC which is stored at `/data/restaurants.csv`.\n",
        "\n",
        "If you do not have it, then uncomment below the lines that start with ! and execute the following:"
      ]
    },
    {
      "cell_type": "code",
      "metadata": {
        "id": "jJ3tsaTLSBlR",
        "colab_type": "code",
        "colab": {
          "base_uri": "https://localhost:8080/",
          "height": 68
        },
        "outputId": "9d26dfe1-4c16-49b8-c068-856b88d869a2"
      },
      "source": [
        "# Creates a folder \"data\" under the current folder\n",
        "!mkdir -p data\n",
        "# Removes any prior file if it exists\n",
        "!rm -f data/restaurant.csv*\n",
        "# Fetches the most recent dataset and stores it under the folder data\n",
        "!curl 'https://data.cityofnewyork.us/api/views/43nn-pn8j/rows.csv?accessType=DOWNLOAD' -o data/restaurant.csv\n",
        "# Compresses the text file, both for saving space and for loading faster\n",
        "!gzip data/restaurant.csv\n",
        "# Take a look at the first 3 lines of the file, to ensure that everything worked fine\n",
        "# !gzip -cd data/restaurant.csv.gz | head -3"
      ],
      "execution_count": 7,
      "outputs": [
        {
          "output_type": "stream",
          "text": [
            "  % Total    % Received % Xferd  Average Speed   Time    Time     Time  Current\n",
            "                                 Dload  Upload   Total   Spent    Left  Speed\n",
            "100  163M    0  163M    0     0  5845k      0 --:--:--  0:00:28 --:--:-- 7327k\n"
          ],
          "name": "stdout"
        }
      ]
    },
    {
      "cell_type": "markdown",
      "metadata": {
        "id": "h2fl4RjySBlT",
        "colab_type": "text"
      },
      "source": [
        "### Reading a CSV file"
      ]
    },
    {
      "cell_type": "markdown",
      "metadata": {
        "id": "BYCiunnASBlU",
        "colab_type": "text"
      },
      "source": [
        "We want to be able to read and process this file within Python. The pandas library has a very convenient method `read_csv` which reads the file, and returns back a variable that contains its contents."
      ]
    },
    {
      "cell_type": "code",
      "metadata": {
        "id": "JhyVyR7FSBlV",
        "colab_type": "code",
        "colab": {}
      },
      "source": [
        "import pandas as pd\n",
        "restaurants = pd.read_csv(\"data/restaurant.csv.gz\", \n",
        "                          encoding='utf_8', \n",
        "                          dtype = 'unicode',\n",
        "                          parse_dates = True,\n",
        "                          infer_datetime_format = True,\n",
        "                          low_memory=False)"
      ],
      "execution_count": 0,
      "outputs": []
    },
    {
      "cell_type": "markdown",
      "metadata": {
        "id": "apFsqI11SBlX",
        "colab_type": "text"
      },
      "source": [
        "When you read a CSV, you get back a kind of object called a DataFrame, which is made up of rows and columns. You get columns out of a DataFrame the same way you get elements out of a dictionary. Let's take a look at how the object looks like:"
      ]
    },
    {
      "cell_type": "code",
      "metadata": {
        "id": "q2v3-JumSBlY",
        "colab_type": "code",
        "colab": {
          "base_uri": "https://localhost:8080/",
          "height": 666
        },
        "outputId": "1e3271f4-e44c-42e0-f1ed-f8d7325c4188"
      },
      "source": [
        "restaurants.head(5)"
      ],
      "execution_count": 9,
      "outputs": [
        {
          "output_type": "execute_result",
          "data": {
            "text/html": [
              "<div>\n",
              "<style scoped>\n",
              "    .dataframe tbody tr th:only-of-type {\n",
              "        vertical-align: middle;\n",
              "    }\n",
              "\n",
              "    .dataframe tbody tr th {\n",
              "        vertical-align: top;\n",
              "    }\n",
              "\n",
              "    .dataframe thead th {\n",
              "        text-align: right;\n",
              "    }\n",
              "</style>\n",
              "<table border=\"1\" class=\"dataframe\">\n",
              "  <thead>\n",
              "    <tr style=\"text-align: right;\">\n",
              "      <th></th>\n",
              "      <th>CAMIS</th>\n",
              "      <th>DBA</th>\n",
              "      <th>BORO</th>\n",
              "      <th>BUILDING</th>\n",
              "      <th>STREET</th>\n",
              "      <th>ZIPCODE</th>\n",
              "      <th>PHONE</th>\n",
              "      <th>CUISINE DESCRIPTION</th>\n",
              "      <th>INSPECTION DATE</th>\n",
              "      <th>ACTION</th>\n",
              "      <th>VIOLATION CODE</th>\n",
              "      <th>VIOLATION DESCRIPTION</th>\n",
              "      <th>CRITICAL FLAG</th>\n",
              "      <th>SCORE</th>\n",
              "      <th>GRADE</th>\n",
              "      <th>GRADE DATE</th>\n",
              "      <th>RECORD DATE</th>\n",
              "      <th>INSPECTION TYPE</th>\n",
              "      <th>Latitude</th>\n",
              "      <th>Longitude</th>\n",
              "      <th>Community Board</th>\n",
              "      <th>Council District</th>\n",
              "      <th>Census Tract</th>\n",
              "      <th>BIN</th>\n",
              "      <th>BBL</th>\n",
              "      <th>NTA</th>\n",
              "    </tr>\n",
              "  </thead>\n",
              "  <tbody>\n",
              "    <tr>\n",
              "      <th>0</th>\n",
              "      <td>41720461</td>\n",
              "      <td>LA COCINA DE ALEX</td>\n",
              "      <td>Queens</td>\n",
              "      <td>10203</td>\n",
              "      <td>JAMAICA AVENUE</td>\n",
              "      <td>11418</td>\n",
              "      <td>7188497509</td>\n",
              "      <td>Spanish</td>\n",
              "      <td>04/28/2018</td>\n",
              "      <td>Violations were cited in the following area(s).</td>\n",
              "      <td>10I</td>\n",
              "      <td>Single service item reused, improperly stored,...</td>\n",
              "      <td>N</td>\n",
              "      <td>12</td>\n",
              "      <td>NaN</td>\n",
              "      <td>NaN</td>\n",
              "      <td>02/05/2020</td>\n",
              "      <td>Cycle Inspection / Initial Inspection</td>\n",
              "      <td>40.695163757333</td>\n",
              "      <td>-73.845048872959</td>\n",
              "      <td>409</td>\n",
              "      <td>32</td>\n",
              "      <td>002600</td>\n",
              "      <td>4191641</td>\n",
              "      <td>4091870002</td>\n",
              "      <td>QN54</td>\n",
              "    </tr>\n",
              "    <tr>\n",
              "      <th>1</th>\n",
              "      <td>50074496</td>\n",
              "      <td>CAFE BISTRO</td>\n",
              "      <td>Manhattan</td>\n",
              "      <td>312</td>\n",
              "      <td>W 34TH ST</td>\n",
              "      <td>10001</td>\n",
              "      <td>9172612450</td>\n",
              "      <td>American</td>\n",
              "      <td>07/31/2018</td>\n",
              "      <td>Violations were cited in the following area(s).</td>\n",
              "      <td>10B</td>\n",
              "      <td>Plumbing not properly installed or maintained;...</td>\n",
              "      <td>N</td>\n",
              "      <td>39</td>\n",
              "      <td>NaN</td>\n",
              "      <td>NaN</td>\n",
              "      <td>02/05/2020</td>\n",
              "      <td>Cycle Inspection / Initial Inspection</td>\n",
              "      <td>40.752458277368</td>\n",
              "      <td>-73.994138480611</td>\n",
              "      <td>104</td>\n",
              "      <td>03</td>\n",
              "      <td>010300</td>\n",
              "      <td>1013552</td>\n",
              "      <td>1007570022</td>\n",
              "      <td>MN13</td>\n",
              "    </tr>\n",
              "    <tr>\n",
              "      <th>2</th>\n",
              "      <td>50051612</td>\n",
              "      <td>DOS CAMINOS</td>\n",
              "      <td>Manhattan</td>\n",
              "      <td>1567</td>\n",
              "      <td>BROADWAY</td>\n",
              "      <td>10036</td>\n",
              "      <td>2129181330</td>\n",
              "      <td>Mexican</td>\n",
              "      <td>09/21/2016</td>\n",
              "      <td>Violations were cited in the following area(s).</td>\n",
              "      <td>10B</td>\n",
              "      <td>Plumbing not properly installed or maintained;...</td>\n",
              "      <td>N</td>\n",
              "      <td>24</td>\n",
              "      <td>NaN</td>\n",
              "      <td>NaN</td>\n",
              "      <td>02/05/2020</td>\n",
              "      <td>Pre-permit (Operational) / Initial Inspection</td>\n",
              "      <td>40.759239769286</td>\n",
              "      <td>-73.985167829517</td>\n",
              "      <td>105</td>\n",
              "      <td>03</td>\n",
              "      <td>012500</td>\n",
              "      <td>1024742</td>\n",
              "      <td>1010187501</td>\n",
              "      <td>MN17</td>\n",
              "    </tr>\n",
              "    <tr>\n",
              "      <th>3</th>\n",
              "      <td>50072374</td>\n",
              "      <td>TWO BROTHERS AFRICAN CUISINE LLC</td>\n",
              "      <td>Queens</td>\n",
              "      <td>11044</td>\n",
              "      <td>SUTPHIN BLVD</td>\n",
              "      <td>11435</td>\n",
              "      <td>3476660442</td>\n",
              "      <td>African</td>\n",
              "      <td>12/18/2018</td>\n",
              "      <td>Violations were cited in the following area(s).</td>\n",
              "      <td>02H</td>\n",
              "      <td>Food not cooled by an approved method whereby ...</td>\n",
              "      <td>Y</td>\n",
              "      <td>12</td>\n",
              "      <td>A</td>\n",
              "      <td>12/18/2018</td>\n",
              "      <td>02/05/2020</td>\n",
              "      <td>Pre-permit (Operational) / Re-inspection</td>\n",
              "      <td>40.689075829129</td>\n",
              "      <td>-73.795958289327</td>\n",
              "      <td>412</td>\n",
              "      <td>28</td>\n",
              "      <td>019600</td>\n",
              "      <td>4258418</td>\n",
              "      <td>4119520062</td>\n",
              "      <td>QN01</td>\n",
              "    </tr>\n",
              "    <tr>\n",
              "      <th>4</th>\n",
              "      <td>50079722</td>\n",
              "      <td>THE BRONX BREWERY-TAP ROOM</td>\n",
              "      <td>Bronx</td>\n",
              "      <td>856</td>\n",
              "      <td>E 136TH ST</td>\n",
              "      <td>10454</td>\n",
              "      <td>7184021000</td>\n",
              "      <td>American</td>\n",
              "      <td>01/09/2020</td>\n",
              "      <td>Violations were cited in the following area(s).</td>\n",
              "      <td>08A</td>\n",
              "      <td>Facility not vermin proof. Harborage or condit...</td>\n",
              "      <td>N</td>\n",
              "      <td>34</td>\n",
              "      <td>NaN</td>\n",
              "      <td>NaN</td>\n",
              "      <td>02/05/2020</td>\n",
              "      <td>Cycle Inspection / Initial Inspection</td>\n",
              "      <td>40.801979939078</td>\n",
              "      <td>-73.910313887547</td>\n",
              "      <td>201</td>\n",
              "      <td>17</td>\n",
              "      <td>001900</td>\n",
              "      <td>2003992</td>\n",
              "      <td>2025870030</td>\n",
              "      <td>BX39</td>\n",
              "    </tr>\n",
              "  </tbody>\n",
              "</table>\n",
              "</div>"
            ],
            "text/plain": [
              "      CAMIS                               DBA  ...         BBL   NTA\n",
              "0  41720461                 LA COCINA DE ALEX  ...  4091870002  QN54\n",
              "1  50074496                       CAFE BISTRO  ...  1007570022  MN13\n",
              "2  50051612                       DOS CAMINOS  ...  1010187501  MN17\n",
              "3  50072374  TWO BROTHERS AFRICAN CUISINE LLC  ...  4119520062  QN01\n",
              "4  50079722        THE BRONX BREWERY-TAP ROOM  ...  2025870030  BX39\n",
              "\n",
              "[5 rows x 26 columns]"
            ]
          },
          "metadata": {
            "tags": []
          },
          "execution_count": 9
        }
      ]
    },
    {
      "cell_type": "markdown",
      "metadata": {
        "id": "gC4JULGLSBla",
        "colab_type": "text"
      },
      "source": [
        "The read_csv method has many options, and you can read further in the [online documentation](http://pandas.pydata.org/pandas-docs/stable/generated/pandas.io.parsers.read_csv.html)."
      ]
    },
    {
      "cell_type": "markdown",
      "metadata": {
        "id": "sNsfQrpvSBlb",
        "colab_type": "text"
      },
      "source": [
        "### Descriptive statistics\n",
        "\n",
        "We can use the method \"describe()\" to get a quick overview of the data in the dataframe."
      ]
    },
    {
      "cell_type": "code",
      "metadata": {
        "id": "c4yKsejPSBlb",
        "colab_type": "code",
        "colab": {
          "base_uri": "https://localhost:8080/",
          "height": 295
        },
        "outputId": "1362b6ff-cf59-4fa0-feaf-60ecb227d2d2"
      },
      "source": [
        "restaurants.describe()"
      ],
      "execution_count": 10,
      "outputs": [
        {
          "output_type": "execute_result",
          "data": {
            "text/html": [
              "<div>\n",
              "<style scoped>\n",
              "    .dataframe tbody tr th:only-of-type {\n",
              "        vertical-align: middle;\n",
              "    }\n",
              "\n",
              "    .dataframe tbody tr th {\n",
              "        vertical-align: top;\n",
              "    }\n",
              "\n",
              "    .dataframe thead th {\n",
              "        text-align: right;\n",
              "    }\n",
              "</style>\n",
              "<table border=\"1\" class=\"dataframe\">\n",
              "  <thead>\n",
              "    <tr style=\"text-align: right;\">\n",
              "      <th></th>\n",
              "      <th>CAMIS</th>\n",
              "      <th>DBA</th>\n",
              "      <th>BORO</th>\n",
              "      <th>BUILDING</th>\n",
              "      <th>STREET</th>\n",
              "      <th>ZIPCODE</th>\n",
              "      <th>PHONE</th>\n",
              "      <th>CUISINE DESCRIPTION</th>\n",
              "      <th>INSPECTION DATE</th>\n",
              "      <th>ACTION</th>\n",
              "      <th>VIOLATION CODE</th>\n",
              "      <th>VIOLATION DESCRIPTION</th>\n",
              "      <th>CRITICAL FLAG</th>\n",
              "      <th>SCORE</th>\n",
              "      <th>GRADE</th>\n",
              "      <th>GRADE DATE</th>\n",
              "      <th>RECORD DATE</th>\n",
              "      <th>INSPECTION TYPE</th>\n",
              "      <th>Latitude</th>\n",
              "      <th>Longitude</th>\n",
              "      <th>Community Board</th>\n",
              "      <th>Council District</th>\n",
              "      <th>Census Tract</th>\n",
              "      <th>BIN</th>\n",
              "      <th>BBL</th>\n",
              "      <th>NTA</th>\n",
              "    </tr>\n",
              "  </thead>\n",
              "  <tbody>\n",
              "    <tr>\n",
              "      <th>count</th>\n",
              "      <td>400735</td>\n",
              "      <td>400307</td>\n",
              "      <td>400735</td>\n",
              "      <td>400483</td>\n",
              "      <td>400734</td>\n",
              "      <td>395193</td>\n",
              "      <td>400719</td>\n",
              "      <td>400735</td>\n",
              "      <td>400735</td>\n",
              "      <td>399189</td>\n",
              "      <td>394852</td>\n",
              "      <td>391483</td>\n",
              "      <td>391483</td>\n",
              "      <td>383588</td>\n",
              "      <td>202305</td>\n",
              "      <td>200053</td>\n",
              "      <td>400735</td>\n",
              "      <td>399189</td>\n",
              "      <td>400321</td>\n",
              "      <td>400321</td>\n",
              "      <td>394780</td>\n",
              "      <td>394792</td>\n",
              "      <td>394792</td>\n",
              "      <td>393045</td>\n",
              "      <td>400321</td>\n",
              "      <td>394780</td>\n",
              "    </tr>\n",
              "    <tr>\n",
              "      <th>unique</th>\n",
              "      <td>27339</td>\n",
              "      <td>21602</td>\n",
              "      <td>6</td>\n",
              "      <td>7304</td>\n",
              "      <td>3245</td>\n",
              "      <td>226</td>\n",
              "      <td>25564</td>\n",
              "      <td>84</td>\n",
              "      <td>1349</td>\n",
              "      <td>5</td>\n",
              "      <td>105</td>\n",
              "      <td>90</td>\n",
              "      <td>2</td>\n",
              "      <td>136</td>\n",
              "      <td>7</td>\n",
              "      <td>1275</td>\n",
              "      <td>1</td>\n",
              "      <td>31</td>\n",
              "      <td>22698</td>\n",
              "      <td>22698</td>\n",
              "      <td>69</td>\n",
              "      <td>51</td>\n",
              "      <td>1185</td>\n",
              "      <td>19746</td>\n",
              "      <td>19437</td>\n",
              "      <td>193</td>\n",
              "    </tr>\n",
              "    <tr>\n",
              "      <th>top</th>\n",
              "      <td>50018552</td>\n",
              "      <td>DUNKIN'</td>\n",
              "      <td>Manhattan</td>\n",
              "      <td>1</td>\n",
              "      <td>BROADWAY</td>\n",
              "      <td>10003</td>\n",
              "      <td>7185958100</td>\n",
              "      <td>American</td>\n",
              "      <td>01/01/1900</td>\n",
              "      <td>Violations were cited in the following area(s).</td>\n",
              "      <td>10F</td>\n",
              "      <td>Non-food contact surface improperly constructe...</td>\n",
              "      <td>Y</td>\n",
              "      <td>12</td>\n",
              "      <td>A</td>\n",
              "      <td>06/13/2019</td>\n",
              "      <td>02/05/2020</td>\n",
              "      <td>Cycle Inspection / Initial Inspection</td>\n",
              "      <td>0</td>\n",
              "      <td>0</td>\n",
              "      <td>105</td>\n",
              "      <td>03</td>\n",
              "      <td>003800</td>\n",
              "      <td>4000000</td>\n",
              "      <td>1</td>\n",
              "      <td>MN17</td>\n",
              "    </tr>\n",
              "    <tr>\n",
              "      <th>freq</th>\n",
              "      <td>98</td>\n",
              "      <td>4109</td>\n",
              "      <td>157823</td>\n",
              "      <td>2304</td>\n",
              "      <td>14464</td>\n",
              "      <td>10346</td>\n",
              "      <td>274</td>\n",
              "      <td>83784</td>\n",
              "      <td>1546</td>\n",
              "      <td>374127</td>\n",
              "      <td>56880</td>\n",
              "      <td>56880</td>\n",
              "      <td>218773</td>\n",
              "      <td>41657</td>\n",
              "      <td>159297</td>\n",
              "      <td>503</td>\n",
              "      <td>400735</td>\n",
              "      <td>233985</td>\n",
              "      <td>5541</td>\n",
              "      <td>5541</td>\n",
              "      <td>32302</td>\n",
              "      <td>35310</td>\n",
              "      <td>3307</td>\n",
              "      <td>2481</td>\n",
              "      <td>3114</td>\n",
              "      <td>23786</td>\n",
              "    </tr>\n",
              "  </tbody>\n",
              "</table>\n",
              "</div>"
            ],
            "text/plain": [
              "           CAMIS      DBA       BORO  ...      BIN     BBL     NTA\n",
              "count     400735   400307     400735  ...   393045  400321  394780\n",
              "unique     27339    21602          6  ...    19746   19437     193\n",
              "top     50018552  DUNKIN'  Manhattan  ...  4000000       1    MN17\n",
              "freq          98     4109     157823  ...     2481    3114   23786\n",
              "\n",
              "[4 rows x 26 columns]"
            ]
          },
          "metadata": {
            "tags": []
          },
          "execution_count": 10
        }
      ]
    },
    {
      "cell_type": "markdown",
      "metadata": {
        "id": "Ftuo4-0tSBle",
        "colab_type": "text"
      },
      "source": [
        "We can also check the data types for each column"
      ]
    },
    {
      "cell_type": "code",
      "metadata": {
        "id": "fq4SlX8HSBlf",
        "colab_type": "code",
        "colab": {
          "base_uri": "https://localhost:8080/",
          "height": 476
        },
        "outputId": "6efc9a2f-5158-49e6-871d-a7fbc6f79ee7"
      },
      "source": [
        "restaurants.dtypes"
      ],
      "execution_count": 11,
      "outputs": [
        {
          "output_type": "execute_result",
          "data": {
            "text/plain": [
              "CAMIS                    object\n",
              "DBA                      object\n",
              "BORO                     object\n",
              "BUILDING                 object\n",
              "STREET                   object\n",
              "ZIPCODE                  object\n",
              "PHONE                    object\n",
              "CUISINE DESCRIPTION      object\n",
              "INSPECTION DATE          object\n",
              "ACTION                   object\n",
              "VIOLATION CODE           object\n",
              "VIOLATION DESCRIPTION    object\n",
              "CRITICAL FLAG            object\n",
              "SCORE                    object\n",
              "GRADE                    object\n",
              "GRADE DATE               object\n",
              "RECORD DATE              object\n",
              "INSPECTION TYPE          object\n",
              "Latitude                 object\n",
              "Longitude                object\n",
              "Community Board          object\n",
              "Council District         object\n",
              "Census Tract             object\n",
              "BIN                      object\n",
              "BBL                      object\n",
              "NTA                      object\n",
              "dtype: object"
            ]
          },
          "metadata": {
            "tags": []
          },
          "execution_count": 11
        }
      ]
    },
    {
      "cell_type": "markdown",
      "metadata": {
        "id": "NLWPFq7gSBli",
        "colab_type": "text"
      },
      "source": [
        "The `object` type is a string. For many of these, we would like to change the data types for a few columns, using the `pd.to_numeric` and `pd.to_datetime` functions. We examine how to convert data types below."
      ]
    },
    {
      "cell_type": "markdown",
      "metadata": {
        "id": "towMolc0SBlj",
        "colab_type": "text"
      },
      "source": [
        "### Descriptive Statistics for Numeric Variables\n"
      ]
    },
    {
      "cell_type": "markdown",
      "metadata": {
        "id": "glz20mE4SBlk",
        "colab_type": "text"
      },
      "source": [
        "#### Converting Data Types to Numeric"
      ]
    },
    {
      "cell_type": "markdown",
      "metadata": {
        "id": "rnRhjFYiSBll",
        "colab_type": "text"
      },
      "source": [
        "The `object` type is a string. When we want to convert an object to numeric, we can use the `pd.to_numeric` function, as shown below:"
      ]
    },
    {
      "cell_type": "code",
      "metadata": {
        "id": "aBNT1UisSBlm",
        "colab_type": "code",
        "colab": {
          "base_uri": "https://localhost:8080/",
          "height": 476
        },
        "outputId": "ed8b6be7-b63b-41b8-cf05-c62ce1e7e01c"
      },
      "source": [
        "restaurants[\"SCORE\"] = pd.to_numeric(restaurants[\"SCORE\"])\n",
        "restaurants.dtypes"
      ],
      "execution_count": 12,
      "outputs": [
        {
          "output_type": "execute_result",
          "data": {
            "text/plain": [
              "CAMIS                     object\n",
              "DBA                       object\n",
              "BORO                      object\n",
              "BUILDING                  object\n",
              "STREET                    object\n",
              "ZIPCODE                   object\n",
              "PHONE                     object\n",
              "CUISINE DESCRIPTION       object\n",
              "INSPECTION DATE           object\n",
              "ACTION                    object\n",
              "VIOLATION CODE            object\n",
              "VIOLATION DESCRIPTION     object\n",
              "CRITICAL FLAG             object\n",
              "SCORE                    float64\n",
              "GRADE                     object\n",
              "GRADE DATE                object\n",
              "RECORD DATE               object\n",
              "INSPECTION TYPE           object\n",
              "Latitude                  object\n",
              "Longitude                 object\n",
              "Community Board           object\n",
              "Council District          object\n",
              "Census Tract              object\n",
              "BIN                       object\n",
              "BBL                       object\n",
              "NTA                       object\n",
              "dtype: object"
            ]
          },
          "metadata": {
            "tags": []
          },
          "execution_count": 12
        }
      ]
    },
    {
      "cell_type": "markdown",
      "metadata": {
        "id": "_lhTsOeYSBlo",
        "colab_type": "text"
      },
      "source": [
        "#### Basic descriptive statistics for numeric variables\n",
        "\n",
        "And now that SCORE is a numeric variable, we can get more detailed descriptive statistics for the variable using the `.describe()` command:"
      ]
    },
    {
      "cell_type": "code",
      "metadata": {
        "id": "aDrGjYzwSBlp",
        "colab_type": "code",
        "colab": {
          "base_uri": "https://localhost:8080/",
          "height": 170
        },
        "outputId": "8f21fb5e-ead1-46fc-f75e-70459d59f227"
      },
      "source": [
        "restaurants.SCORE.describe()"
      ],
      "execution_count": 13,
      "outputs": [
        {
          "output_type": "execute_result",
          "data": {
            "text/plain": [
              "count    383588.000000\n",
              "mean         20.415597\n",
              "std          14.832694\n",
              "min          -1.000000\n",
              "25%          11.000000\n",
              "50%          15.000000\n",
              "75%          26.000000\n",
              "max         164.000000\n",
              "Name: SCORE, dtype: float64"
            ]
          },
          "metadata": {
            "tags": []
          },
          "execution_count": 13
        }
      ]
    },
    {
      "cell_type": "markdown",
      "metadata": {
        "id": "Yju8ZmyQSBls",
        "colab_type": "text"
      },
      "source": [
        "And now that SCORE is a numeric variable, we can examine its distribution by using the `hist` command of Pandas, which creates a histogram. (The histogram is lso available as `plot.hist`, or `plot(kind='hist'))`.)"
      ]
    },
    {
      "cell_type": "code",
      "metadata": {
        "id": "Fw-0FixCSBlt",
        "colab_type": "code",
        "colab": {
          "base_uri": "https://localhost:8080/",
          "height": 458
        },
        "outputId": "d0255b41-d5ea-4f5e-dcaa-ce073c8f8b76"
      },
      "source": [
        "restaurants[\"SCORE\"].hist()"
      ],
      "execution_count": 14,
      "outputs": [
        {
          "output_type": "execute_result",
          "data": {
            "text/plain": [
              "<matplotlib.axes._subplots.AxesSubplot at 0x7f15f0d33390>"
            ]
          },
          "metadata": {
            "tags": []
          },
          "execution_count": 14
        },
        {
          "output_type": "display_data",
          "data": {
            "image/png": "[encoded data removed]",
            "text/plain": [
              "<Figure size 748.8x514.8 with 1 Axes>"
            ]
          },
          "metadata": {
            "tags": [],
            "image/png": {
              "width": 647,
              "height": 424
            }
          }
        }
      ]
    },
    {
      "cell_type": "markdown",
      "metadata": {
        "id": "15YRupJzSBlw",
        "colab_type": "text"
      },
      "source": [
        "By default, the histogram has ~10 bars in out plot. We can change the resolution of the histogram using the `bins` variable. Larger number of `bins` allow for higher resolution, but if we increase the number too much, many bins end up having very few, or no data points. For example, experiment with changing the balue of bins below, and change the value from 50 to something bigger."
      ]
    },
    {
      "cell_type": "code",
      "metadata": {
        "id": "wX-FWuQISBlx",
        "colab_type": "code",
        "colab": {
          "base_uri": "https://localhost:8080/",
          "height": 458
        },
        "outputId": "cb02b28d-924f-42a2-cbf6-998f641fec93"
      },
      "source": [
        "restaurants[\"SCORE\"].hist(bins=50)"
      ],
      "execution_count": 15,
      "outputs": [
        {
          "output_type": "execute_result",
          "data": {
            "text/plain": [
              "<matplotlib.axes._subplots.AxesSubplot at 0x7f15f07e1a20>"
            ]
          },
          "metadata": {
            "tags": []
          },
          "execution_count": 15
        },
        {
          "output_type": "display_data",
          "data": {
            "image/png": "[encoded data removed]",
            "text/plain": [
              "<Figure size 748.8x514.8 with 1 Axes>"
            ]
          },
          "metadata": {
            "tags": [],
            "image/png": {
              "width": 647,
              "height": 424
            }
          }
        }
      ]
    },
    {
      "cell_type": "code",
      "metadata": {
        "id": "k44SpIkBSBlz",
        "colab_type": "code",
        "colab": {
          "base_uri": "https://localhost:8080/",
          "height": 458
        },
        "outputId": "c449f5ce-fe36-45ec-b52f-438aa5ad80b9"
      },
      "source": [
        "# For column names without a space, we can also access directly the column as follows:\n",
        "restaurants.SCORE.hist(bins=50)"
      ],
      "execution_count": 16,
      "outputs": [
        {
          "output_type": "execute_result",
          "data": {
            "text/plain": [
              "<matplotlib.axes._subplots.AxesSubplot at 0x7f15f0790e48>"
            ]
          },
          "metadata": {
            "tags": []
          },
          "execution_count": 16
        },
        {
          "output_type": "display_data",
          "data": {
            "image/png": "[encoded data removed]",
            "text/plain": [
              "<Figure size 748.8x514.8 with 1 Axes>"
            ]
          },
          "metadata": {
            "tags": [],
            "image/png": {
              "width": 647,
              "height": 424
            }
          }
        }
      ]
    },
    {
      "cell_type": "code",
      "metadata": {
        "id": "WHeoA8vpSBl1",
        "colab_type": "code",
        "colab": {
          "base_uri": "https://localhost:8080/",
          "height": 341
        },
        "outputId": "1f5c5375-4e39-4313-a486-5bf25dcd8785"
      },
      "source": [
        "# A quick exposure to various options of the \"hist\" command \n",
        "restaurants.SCORE.hist(bins=15, # use 50 bars\n",
        "                          range=(0,75), # x-axis from 0 to 50\n",
        "                          density=False,  # show normalized count (density=True), or raw counts (density= False)\n",
        "                          figsize=(15,5), # controls the size of the plot\n",
        "                          alpha = 0.8 # make the plot 20% transparent\n",
        "                         )"
      ],
      "execution_count": 17,
      "outputs": [
        {
          "output_type": "execute_result",
          "data": {
            "text/plain": [
              "<matplotlib.axes._subplots.AxesSubplot at 0x7f15f061b1d0>"
            ]
          },
          "metadata": {
            "tags": []
          },
          "execution_count": 17
        },
        {
          "output_type": "display_data",
          "data": {
            "image/png": "[encoded data removed]",
            "text/plain": [
              "<Figure size 1080x360 with 1 Axes>"
            ]
          },
          "metadata": {
            "tags": [],
            "image/png": {
              "width": 904,
              "height": 307
            }
          }
        }
      ]
    },
    {
      "cell_type": "markdown",
      "metadata": {
        "id": "2ggUBSlPSBl3",
        "colab_type": "text"
      },
      "source": [
        "#### Kernel Density Estimation (KDE)\n",
        "\n",
        "An alternative to histograms is to use the **kernel density**, which estimates a continuous function, instead of the bucketized counts, which tends to be discontunuous and bumpy. We can access this usind the `.plot(kind='kde')` command:"
      ]
    },
    {
      "cell_type": "code",
      "metadata": {
        "id": "pUKkeItySBl4",
        "colab_type": "code",
        "colab": {
          "base_uri": "https://localhost:8080/",
          "height": 341
        },
        "outputId": "41c4ebd9-2880-4090-a806-a85f3fe0dde3"
      },
      "source": [
        "# This plots the density of a numeric attribute\n",
        "# kde = kernel density estimation\n",
        "restaurants.SCORE.plot(\n",
        "    kind='kde', \n",
        "    color='Black', \n",
        "    xlim=(0,50), \n",
        "    figsize=(15,5)\n",
        ")"
      ],
      "execution_count": 18,
      "outputs": [
        {
          "output_type": "execute_result",
          "data": {
            "text/plain": [
              "<matplotlib.axes._subplots.AxesSubplot at 0x7f15f05dbb38>"
            ]
          },
          "metadata": {
            "tags": []
          },
          "execution_count": 18
        },
        {
          "output_type": "display_data",
          "data": {
            "image/png": "[encoded data removed]",
            "text/plain": [
              "<Figure size 1080x360 with 1 Axes>"
            ]
          },
          "metadata": {
            "tags": [],
            "image/png": {
              "width": 911,
              "height": 307
            }
          }
        }
      ]
    },
    {
      "cell_type": "markdown",
      "metadata": {
        "id": "OCaLZ7iNSBl6",
        "colab_type": "text"
      },
      "source": [
        "### Converting Dates"
      ]
    },
    {
      "cell_type": "markdown",
      "metadata": {
        "id": "zfLWJOwJSBl7",
        "colab_type": "text"
      },
      "source": [
        "Now let's convert the dates columns into the appropriate data types. Let's take a look at a few dates."
      ]
    },
    {
      "cell_type": "code",
      "metadata": {
        "id": "ZKzkK30DSBl8",
        "colab_type": "code",
        "colab": {
          "base_uri": "https://localhost:8080/",
          "height": 204
        },
        "outputId": "6dac82b2-50d6-4b69-f5cb-9a2396b758a3"
      },
      "source": [
        "restaurants[\"GRADE DATE\"].head(10)"
      ],
      "execution_count": 19,
      "outputs": [
        {
          "output_type": "execute_result",
          "data": {
            "text/plain": [
              "0           NaN\n",
              "1           NaN\n",
              "2           NaN\n",
              "3    12/18/2018\n",
              "4           NaN\n",
              "5           NaN\n",
              "6           NaN\n",
              "7    12/31/2018\n",
              "8           NaN\n",
              "9           NaN\n",
              "Name: GRADE DATE, dtype: object"
            ]
          },
          "metadata": {
            "tags": []
          },
          "execution_count": 19
        }
      ]
    },
    {
      "cell_type": "markdown",
      "metadata": {
        "id": "96T2QWj-SBl_",
        "colab_type": "text"
      },
      "source": [
        "For that, we need to understand first how to [parse dates using the Python conventions](https://docs.python.org/3/library/datetime.html#strftime-and-strptime-behavior).\n",
        "\n",
        "The relevant entries from the table are:\n",
        "* `%m` Month as a zero-padded decimal number.\n",
        "* `%d` \tDay of the month as a zero-padded decimal number.\n",
        "* `%Y` Year with century as a decimal number.\n",
        "\n",
        "Now, we can specify how to parse these dates. (In principle, we can let Pandas do this automatically, but it is _much_ faster if we specify it ourselves. It is also much less error-prone.)"
      ]
    },
    {
      "cell_type": "code",
      "metadata": {
        "id": "8QeLJ3BWSBmA",
        "colab_type": "code",
        "colab": {}
      },
      "source": [
        "restaurants[\"GRADE DATE\"] = pd.to_datetime(restaurants[\"GRADE DATE\"], format=\"%m/%d/%Y\")\n",
        "restaurants[\"RECORD DATE\"] = pd.to_datetime(restaurants[\"RECORD DATE\"], format=\"%m/%d/%Y\")\n",
        "restaurants[\"INSPECTION DATE\"] = pd.to_datetime(restaurants[\"INSPECTION DATE\"], format=\"%m/%d/%Y\")"
      ],
      "execution_count": 0,
      "outputs": []
    },
    {
      "cell_type": "code",
      "metadata": {
        "id": "G8KCP4EvSBmC",
        "colab_type": "code",
        "colab": {
          "base_uri": "https://localhost:8080/",
          "height": 476
        },
        "outputId": "33ca6ca7-f125-4ad6-a67c-36f263bdefef"
      },
      "source": [
        "restaurants.dtypes"
      ],
      "execution_count": 21,
      "outputs": [
        {
          "output_type": "execute_result",
          "data": {
            "text/plain": [
              "CAMIS                            object\n",
              "DBA                              object\n",
              "BORO                             object\n",
              "BUILDING                         object\n",
              "STREET                           object\n",
              "ZIPCODE                          object\n",
              "PHONE                            object\n",
              "CUISINE DESCRIPTION              object\n",
              "INSPECTION DATE          datetime64[ns]\n",
              "ACTION                           object\n",
              "VIOLATION CODE                   object\n",
              "VIOLATION DESCRIPTION            object\n",
              "CRITICAL FLAG                    object\n",
              "SCORE                           float64\n",
              "GRADE                            object\n",
              "GRADE DATE               datetime64[ns]\n",
              "RECORD DATE              datetime64[ns]\n",
              "INSPECTION TYPE                  object\n",
              "Latitude                         object\n",
              "Longitude                        object\n",
              "Community Board                  object\n",
              "Council District                 object\n",
              "Census Tract                     object\n",
              "BIN                              object\n",
              "BBL                              object\n",
              "NTA                              object\n",
              "dtype: object"
            ]
          },
          "metadata": {
            "tags": []
          },
          "execution_count": 21
        }
      ]
    },
    {
      "cell_type": "code",
      "metadata": {
        "id": "k30LT6-tSBmE",
        "colab_type": "code",
        "colab": {
          "base_uri": "https://localhost:8080/",
          "height": 235
        },
        "outputId": "37c90dcc-06fa-4312-94cd-b435392a4c90"
      },
      "source": [
        "restaurants[[\"INSPECTION DATE\", \"GRADE DATE\", \"RECORD DATE\"]].describe()"
      ],
      "execution_count": 22,
      "outputs": [
        {
          "output_type": "execute_result",
          "data": {
            "text/html": [
              "<div>\n",
              "<style scoped>\n",
              "    .dataframe tbody tr th:only-of-type {\n",
              "        vertical-align: middle;\n",
              "    }\n",
              "\n",
              "    .dataframe tbody tr th {\n",
              "        vertical-align: top;\n",
              "    }\n",
              "\n",
              "    .dataframe thead th {\n",
              "        text-align: right;\n",
              "    }\n",
              "</style>\n",
              "<table border=\"1\" class=\"dataframe\">\n",
              "  <thead>\n",
              "    <tr style=\"text-align: right;\">\n",
              "      <th></th>\n",
              "      <th>INSPECTION DATE</th>\n",
              "      <th>GRADE DATE</th>\n",
              "      <th>RECORD DATE</th>\n",
              "    </tr>\n",
              "  </thead>\n",
              "  <tbody>\n",
              "    <tr>\n",
              "      <th>count</th>\n",
              "      <td>400735</td>\n",
              "      <td>200053</td>\n",
              "      <td>400735</td>\n",
              "    </tr>\n",
              "    <tr>\n",
              "      <th>unique</th>\n",
              "      <td>1349</td>\n",
              "      <td>1275</td>\n",
              "      <td>1</td>\n",
              "    </tr>\n",
              "    <tr>\n",
              "      <th>top</th>\n",
              "      <td>1900-01-01 00:00:00</td>\n",
              "      <td>2019-06-13 00:00:00</td>\n",
              "      <td>2020-02-05 00:00:00</td>\n",
              "    </tr>\n",
              "    <tr>\n",
              "      <th>freq</th>\n",
              "      <td>1546</td>\n",
              "      <td>503</td>\n",
              "      <td>400735</td>\n",
              "    </tr>\n",
              "    <tr>\n",
              "      <th>first</th>\n",
              "      <td>1900-01-01 00:00:00</td>\n",
              "      <td>2013-06-07 00:00:00</td>\n",
              "      <td>2020-02-05 00:00:00</td>\n",
              "    </tr>\n",
              "    <tr>\n",
              "      <th>last</th>\n",
              "      <td>2020-02-04 00:00:00</td>\n",
              "      <td>2020-02-04 00:00:00</td>\n",
              "      <td>2020-02-05 00:00:00</td>\n",
              "    </tr>\n",
              "  </tbody>\n",
              "</table>\n",
              "</div>"
            ],
            "text/plain": [
              "            INSPECTION DATE           GRADE DATE          RECORD DATE\n",
              "count                400735               200053               400735\n",
              "unique                 1349                 1275                    1\n",
              "top     1900-01-01 00:00:00  2019-06-13 00:00:00  2020-02-05 00:00:00\n",
              "freq                   1546                  503               400735\n",
              "first   1900-01-01 00:00:00  2013-06-07 00:00:00  2020-02-05 00:00:00\n",
              "last    2020-02-04 00:00:00  2020-02-04 00:00:00  2020-02-05 00:00:00"
            ]
          },
          "metadata": {
            "tags": []
          },
          "execution_count": 22
        }
      ]
    },
    {
      "cell_type": "markdown",
      "metadata": {
        "id": "eybBXRl8SBmG",
        "colab_type": "text"
      },
      "source": [
        "#### Exercise\n",
        "\n",
        "* Plot a histogram for `INSPECTION DATE`, `GRADE DATE`, `RECORD DATE`. What do you see?\n",
        "* Try modifying the `bins` parameter. What are the results?\n",
        "* The `range=(start, finish)` command is often useful, when we want to focus on a particular part of the dataset. Try using that for  `INSPECTION DATE` to limit the dates to be between 1/1/2014 and 05/31/2018."
      ]
    },
    {
      "cell_type": "code",
      "metadata": {
        "id": "dbd03YMpSBmH",
        "colab_type": "code",
        "colab": {
          "base_uri": "https://localhost:8080/",
          "height": 458
        },
        "outputId": "f5f8c50d-2e7d-4f42-d175-a20b95b3ab28"
      },
      "source": [
        "restaurants['INSPECTION DATE'].hist()"
      ],
      "execution_count": 23,
      "outputs": [
        {
          "output_type": "execute_result",
          "data": {
            "text/plain": [
              "<matplotlib.axes._subplots.AxesSubplot at 0x7f15edd26da0>"
            ]
          },
          "metadata": {
            "tags": []
          },
          "execution_count": 23
        },
        {
          "output_type": "display_data",
          "data": {
            "image/png": "[encoded data removed]",
            "text/plain": [
              "<Figure size 748.8x514.8 with 1 Axes>"
            ]
          },
          "metadata": {
            "tags": [],
            "image/png": {
              "width": 647,
              "height": 424
            }
          }
        }
      ]
    },
    {
      "cell_type": "code",
      "metadata": {
        "id": "JDU6vlbvSBmK",
        "colab_type": "code",
        "colab": {
          "base_uri": "https://localhost:8080/",
          "height": 458
        },
        "outputId": "bd7a5c92-e7f5-4f67-ff1a-1fac0ac724b6"
      },
      "source": [
        "restaurants['GRADE DATE'].hist(bins=365*7+6*30)"
      ],
      "execution_count": 24,
      "outputs": [
        {
          "output_type": "execute_result",
          "data": {
            "text/plain": [
              "<matplotlib.axes._subplots.AxesSubplot at 0x7f15ec4bcfd0>"
            ]
          },
          "metadata": {
            "tags": []
          },
          "execution_count": 24
        },
        {
          "output_type": "display_data",
          "data": {
            "image/png": "[encoded data removed]",
            "text/plain": [
              "<Figure size 748.8x514.8 with 1 Axes>"
            ]
          },
          "metadata": {
            "tags": [],
            "image/png": {
              "width": 625,
              "height": 424
            }
          }
        }
      ]
    },
    {
      "cell_type": "code",
      "metadata": {
        "id": "8WPaFBHiSBmM",
        "colab_type": "code",
        "colab": {
          "base_uri": "https://localhost:8080/",
          "height": 458
        },
        "outputId": "5ca34d65-72e4-4bc7-9e9e-8a13dbc2637d"
      },
      "source": [
        "restaurants['INSPECTION DATE'].hist(bins=4*12+6, # 4 years since 2015, plus 6 months\n",
        "                                   range=('1/1/2015', '6/10/2019') )"
      ],
      "execution_count": 25,
      "outputs": [
        {
          "output_type": "execute_result",
          "data": {
            "text/plain": [
              "<matplotlib.axes._subplots.AxesSubplot at 0x7f15ec4eb860>"
            ]
          },
          "metadata": {
            "tags": []
          },
          "execution_count": 25
        },
        {
          "output_type": "display_data",
          "data": {
            "image/png": "[encoded data removed]",
            "text/plain": [
              "<Figure size 748.8x514.8 with 1 Axes>"
            ]
          },
          "metadata": {
            "tags": [],
            "image/png": {
              "width": 644,
              "height": 424
            }
          }
        }
      ]
    },
    {
      "cell_type": "code",
      "metadata": {
        "id": "daM7_DcySBmP",
        "colab_type": "code",
        "colab": {}
      },
      "source": [
        "# your code here"
      ],
      "execution_count": 0,
      "outputs": []
    },
    {
      "cell_type": "markdown",
      "metadata": {
        "solution2": "hidden",
        "solution2_first": true,
        "id": "bzWzdUYjSBmR",
        "colab_type": "text"
      },
      "source": [
        "#### Solution"
      ]
    },
    {
      "cell_type": "code",
      "metadata": {
        "solution2": "hidden",
        "id": "9KR2tK82SBmS",
        "colab_type": "code",
        "colab": {
          "base_uri": "https://localhost:8080/",
          "height": 458
        },
        "outputId": "848bda16-3549-4024-ca4b-997c8e8c9db0"
      },
      "source": [
        "# Not very appealing\n",
        "restaurants['INSPECTION DATE'].hist()"
      ],
      "execution_count": 27,
      "outputs": [
        {
          "output_type": "execute_result",
          "data": {
            "text/plain": [
              "<matplotlib.axes._subplots.AxesSubplot at 0x7f15ec387588>"
            ]
          },
          "metadata": {
            "tags": []
          },
          "execution_count": 27
        },
        {
          "output_type": "display_data",
          "data": {
            "image/png": "[encoded data removed]",
            "text/plain": [
              "<Figure size 748.8x514.8 with 1 Axes>"
            ]
          },
          "metadata": {
            "tags": [],
            "image/png": {
              "width": 647,
              "height": 424
            }
          }
        }
      ]
    },
    {
      "cell_type": "code",
      "metadata": {
        "solution2": "hidden",
        "id": "1V2YyNUYSBmU",
        "colab_type": "code",
        "colab": {
          "base_uri": "https://localhost:8080/",
          "height": 458
        },
        "outputId": "81c21dcc-25ad-4632-8928-e1fcfcaa59c7"
      },
      "source": [
        "restaurants['GRADE DATE'].hist()"
      ],
      "execution_count": 28,
      "outputs": [
        {
          "output_type": "execute_result",
          "data": {
            "text/plain": [
              "<matplotlib.axes._subplots.AxesSubplot at 0x7f15ea80a908>"
            ]
          },
          "metadata": {
            "tags": []
          },
          "execution_count": 28
        },
        {
          "output_type": "display_data",
          "data": {
            "image/png": "[encoded data removed]",
            "text/plain": [
              "<Figure size 748.8x514.8 with 1 Axes>"
            ]
          },
          "metadata": {
            "tags": [],
            "image/png": {
              "width": 640,
              "height": 424
            }
          }
        }
      ]
    },
    {
      "cell_type": "code",
      "metadata": {
        "solution2": "hidden",
        "id": "SXUgsyTKSBmW",
        "colab_type": "code",
        "colab": {
          "base_uri": "https://localhost:8080/",
          "height": 341
        },
        "outputId": "c90766b5-2d2b-4301-c1e5-f3ec13c7a135"
      },
      "source": [
        "restaurants['INSPECTION DATE'].hist(\n",
        "    range = ('1/1/2014','9/30/2018'), # limit the range of dates, ignore the 1/1/1990 faulty valye\n",
        "    bins = 57, # number of months in the range -- computed manually\n",
        "    figsize = (15,5) # resize 15-width, 5-height\n",
        ")"
      ],
      "execution_count": 29,
      "outputs": [
        {
          "output_type": "execute_result",
          "data": {
            "text/plain": [
              "<matplotlib.axes._subplots.AxesSubplot at 0x7f15ea5aa6d8>"
            ]
          },
          "metadata": {
            "tags": []
          },
          "execution_count": 29
        },
        {
          "output_type": "display_data",
          "data": {
            "image/png": "[encoded data removed]",
            "text/plain": [
              "<Figure size 1080x360 with 1 Axes>"
            ]
          },
          "metadata": {
            "tags": [],
            "image/png": {
              "width": 896,
              "height": 307
            }
          }
        }
      ]
    },
    {
      "cell_type": "code",
      "metadata": {
        "solution2": "hidden",
        "id": "v51O18mwSBmc",
        "colab_type": "code",
        "colab": {
          "base_uri": "https://localhost:8080/",
          "height": 341
        },
        "outputId": "1a00ee03-bbff-4367-8082-fe99389094c1"
      },
      "source": [
        "restaurants['GRADE DATE'].hist(\n",
        "    range = ('1/1/2014','9/30/2018'), # limit the range of dates, ignore the 1/1/1990 faulty valye\n",
        "    bins = 57, # number of months in the range -- computed manually\n",
        "    figsize = (15,5) # resize 15-width, 5-height\n",
        ")"
      ],
      "execution_count": 30,
      "outputs": [
        {
          "output_type": "execute_result",
          "data": {
            "text/plain": [
              "<matplotlib.axes._subplots.AxesSubplot at 0x7f15ea48e2e8>"
            ]
          },
          "metadata": {
            "tags": []
          },
          "execution_count": 30
        },
        {
          "output_type": "display_data",
          "data": {
            "image/png": "[encoded data removed]",
            "text/plain": [
              "<Figure size 1080x360 with 1 Axes>"
            ]
          },
          "metadata": {
            "tags": [],
            "image/png": {
              "width": 889,
              "height": 307
            }
          }
        }
      ]
    },
    {
      "cell_type": "markdown",
      "metadata": {
        "id": "NdnEtjsXSBmd",
        "colab_type": "text"
      },
      "source": [
        "### Categorical Variables\n",
        "\n",
        "This is less important, but sometimes we want to specify variables to be \"Categorical\". This is most commonly useful when we have variables that have an implicit order (e.g., the A/B/C grade of the restaurant)."
      ]
    },
    {
      "cell_type": "code",
      "metadata": {
        "id": "iIioOrvxSBme",
        "colab_type": "code",
        "colab": {}
      },
      "source": [
        "restaurants[\"BORO\"] =  pd.Categorical(restaurants[\"BORO\"], ordered=False)\n",
        "restaurants[\"GRADE\"] =  pd.Categorical(restaurants[\"GRADE\"], categories = ['A', 'B', 'C'], ordered=True)\n",
        "restaurants[\"VIOLATION CODE\"] =  pd.Categorical(restaurants[\"VIOLATION CODE\"], ordered=False)\n",
        "restaurants[\"CRITICAL FLAG\"] =  pd.Categorical(restaurants[\"CRITICAL FLAG\"], ordered=False)\n",
        "restaurants[\"ACTION\"] =  pd.Categorical(restaurants[\"ACTION\"], ordered=False)\n",
        "restaurants[\"CUISINE DESCRIPTION\"] =  pd.Categorical(restaurants[\"CUISINE DESCRIPTION\"], ordered=False)\n",
        "restaurants.dtypes"
      ],
      "execution_count": 0,
      "outputs": []
    },
    {
      "cell_type": "markdown",
      "metadata": {
        "id": "-yRsOQy9SBmg",
        "colab_type": "text"
      },
      "source": [
        "### Analyzing the content of the columns"
      ]
    },
    {
      "cell_type": "markdown",
      "metadata": {
        "id": "iIy2GM0_SBmh",
        "colab_type": "text"
      },
      "source": [
        "We can also get quick statistics about the common values that appear in each column:"
      ]
    },
    {
      "cell_type": "code",
      "metadata": {
        "id": "G4SQXlSDSBmi",
        "colab_type": "code",
        "colab": {}
      },
      "source": [
        "restaurants[\"DBA\"].value_counts()"
      ],
      "execution_count": 0,
      "outputs": []
    },
    {
      "cell_type": "code",
      "metadata": {
        "id": "iRx12KUeSBml",
        "colab_type": "code",
        "colab": {}
      },
      "source": [
        "restaurants[\"CUISINE DESCRIPTION\"].value_counts()"
      ],
      "execution_count": 0,
      "outputs": []
    },
    {
      "cell_type": "markdown",
      "metadata": {
        "id": "36QBtYmgSBmo",
        "colab_type": "text"
      },
      "source": [
        "And we can use the \"plot\" command to plot the resulting histogram. (More details at http://pandas.pydata.org/pandas-docs/stable/visualization.html) We also revisit plotting below."
      ]
    },
    {
      "cell_type": "code",
      "metadata": {
        "id": "VcGSLIejSBmp",
        "colab_type": "code",
        "colab": {}
      },
      "source": [
        "restaurants[\"CUISINE DESCRIPTION\"].value_counts()[:20].plot(kind='barh')"
      ],
      "execution_count": 0,
      "outputs": []
    },
    {
      "cell_type": "code",
      "metadata": {
        "id": "fGhJVJZ6SBmr",
        "colab_type": "code",
        "colab": {}
      },
      "source": [
        "popular = restaurants[\"CUISINE DESCRIPTION\"].value_counts()\n",
        "popular"
      ],
      "execution_count": 0,
      "outputs": []
    },
    {
      "cell_type": "markdown",
      "metadata": {
        "id": "dLnpK8oeSBmu",
        "colab_type": "text"
      },
      "source": [
        "Hm, that does not look nice. Let's shorten the name of the cuisine for the _\"Latin (Cuban, Dominican, Puerto Rican, South & Central American)\"_ and replace it with _\"Latin American\"_. We will use the `replace` command in Pandas:"
      ]
    },
    {
      "cell_type": "code",
      "metadata": {
        "id": "3oukRfYwSBmv",
        "colab_type": "code",
        "colab": {}
      },
      "source": [
        "restaurants[\"CUISINE DESCRIPTION\"].replace(\n",
        "    to_replace='Latin (Cuban, Dominican, Puerto Rican, South & Central American)',\n",
        "    value = 'Latin American',\n",
        "    inplace=True\n",
        ")"
      ],
      "execution_count": 0,
      "outputs": []
    },
    {
      "cell_type": "code",
      "metadata": {
        "id": "DLcLaRdySBmx",
        "colab_type": "code",
        "colab": {}
      },
      "source": [
        "restaurants[\"CUISINE DESCRIPTION\"].replace(\n",
        "    to_replace='CafÃ©/Coffee/Tea',\n",
        "    value = 'Cafe/Coffee/Tea',\n",
        "    inplace=True\n",
        ")\n"
      ],
      "execution_count": 0,
      "outputs": []
    },
    {
      "cell_type": "code",
      "metadata": {
        "id": "eFMN-EB0SBmy",
        "colab_type": "code",
        "colab": {}
      },
      "source": [
        "popular = restaurants[\"CUISINE DESCRIPTION\"].value_counts()\n",
        "popular[:20].plot(kind='barh')"
      ],
      "execution_count": 0,
      "outputs": []
    },
    {
      "cell_type": "code",
      "metadata": {
        "id": "w8oJ7JNgSBm1",
        "colab_type": "code",
        "colab": {}
      },
      "source": [
        "restaurants[\"VIOLATION CODE\"].head(5)"
      ],
      "execution_count": 0,
      "outputs": []
    },
    {
      "cell_type": "code",
      "metadata": {
        "id": "rlC5wskiSBm3",
        "colab_type": "code",
        "colab": {}
      },
      "source": [
        "violation_counts = restaurants[\"VIOLATION CODE\"].value_counts();\n",
        "violation_counts[0:10]"
      ],
      "execution_count": 0,
      "outputs": []
    },
    {
      "cell_type": "code",
      "metadata": {
        "id": "QB-RHHmTSBm5",
        "colab_type": "code",
        "colab": {}
      },
      "source": [
        "violation_counts[0:20].plot(kind='bar')"
      ],
      "execution_count": 0,
      "outputs": []
    },
    {
      "cell_type": "markdown",
      "metadata": {
        "id": "vhCy8IzsSBm7",
        "colab_type": "text"
      },
      "source": [
        "#### Exercise\n",
        "\n",
        "* Create a plot showing the number of inspections that happen across **boroughs**. Use the `BORO` column and the `value_counts()` function."
      ]
    },
    {
      "cell_type": "code",
      "metadata": {
        "id": "URv4yIg7SBm7",
        "colab_type": "code",
        "colab": {}
      },
      "source": [
        "# your code here\n",
        "restaurants[\"BORO\"].value_counts().plot(kind='barh')"
      ],
      "execution_count": 0,
      "outputs": []
    },
    {
      "cell_type": "markdown",
      "metadata": {
        "solution2": "hidden",
        "solution2_first": true,
        "id": "n3mvXYziSBm-",
        "colab_type": "text"
      },
      "source": [
        "#### Solution "
      ]
    },
    {
      "cell_type": "code",
      "metadata": {
        "solution2": "hidden",
        "id": "BgJjQa0QSBm-",
        "colab_type": "code",
        "colab": {}
      },
      "source": [
        "restaurants['BORO'].value_counts()"
      ],
      "execution_count": 0,
      "outputs": []
    },
    {
      "cell_type": "code",
      "metadata": {
        "solution2": "hidden",
        "id": "1ToosSY4SBnA",
        "colab_type": "code",
        "colab": {}
      },
      "source": [
        "# Same as above; works only for attribute names without spaces\n",
        "restaurants.BORO.value_counts()"
      ],
      "execution_count": 0,
      "outputs": []
    },
    {
      "cell_type": "code",
      "metadata": {
        "solution2": "hidden",
        "id": "hhUgG6C_SBnC",
        "colab_type": "code",
        "colab": {}
      },
      "source": [
        "restaurants['BORO'].value_counts().plot(kind='bar')"
      ],
      "execution_count": 0,
      "outputs": []
    },
    {
      "cell_type": "code",
      "metadata": {
        "solution2": "hidden",
        "id": "xvZBGON2SBnD",
        "colab_type": "code",
        "colab": {}
      },
      "source": [
        "restaurants['BORO'].value_counts().plot(kind='barh')"
      ],
      "execution_count": 0,
      "outputs": []
    },
    {
      "cell_type": "markdown",
      "metadata": {
        "id": "3gznL_pUSBnF",
        "colab_type": "text"
      },
      "source": [
        "### Selecting a subset of the columns\n",
        "\n",
        "In a dataframe, we can specify the column(s) that we want to keep, and get back another dataframe with just the subset of the columns that we want to keep."
      ]
    },
    {
      "cell_type": "code",
      "metadata": {
        "id": "VhY4z4MFSBnF",
        "colab_type": "code",
        "colab": {}
      },
      "source": [
        "restaurants"
      ],
      "execution_count": 0,
      "outputs": []
    },
    {
      "cell_type": "code",
      "metadata": {
        "id": "7w3JrA9mSBnH",
        "colab_type": "code",
        "colab": {}
      },
      "source": [
        "restaurants[ [\"DBA\", \"GRADE\", \"GRADE DATE\"] ]"
      ],
      "execution_count": 0,
      "outputs": []
    },
    {
      "cell_type": "code",
      "metadata": {
        "id": "JJE4tt_oSBnJ",
        "colab_type": "code",
        "colab": {}
      },
      "source": [
        "columns = [\"GRADE DATE\",\"VIOLATION CODE\", \"DBA\", \"SCORE\"]\n",
        "restaurants[ columns ].head(10)"
      ],
      "execution_count": 0,
      "outputs": []
    },
    {
      "cell_type": "code",
      "metadata": {
        "id": "zGeu8yZbSBnK",
        "colab_type": "code",
        "colab": {}
      },
      "source": [
        "restaurants[ [\"GRADE DATE\",\"VIOLATION CODE\", \"DBA\", \"SCORE\"] ].head(10)"
      ],
      "execution_count": 0,
      "outputs": []
    },
    {
      "cell_type": "markdown",
      "metadata": {
        "id": "nePpnYNgSBnN",
        "colab_type": "text"
      },
      "source": [
        "### Selecting rows\n",
        "\n",
        "To select rows, we can use the following approach, where we generate a list of boolean values, one for each row of the dataframe, and then we use the list to select which of the rows of the dataframe we want to keep\""
      ]
    },
    {
      "cell_type": "code",
      "metadata": {
        "id": "h4hJKpv5SBnO",
        "colab_type": "code",
        "colab": {}
      },
      "source": [
        "restaurants"
      ],
      "execution_count": 0,
      "outputs": []
    },
    {
      "cell_type": "code",
      "metadata": {
        "id": "VSYhKqKgSBnP",
        "colab_type": "code",
        "colab": {}
      },
      "source": [
        "# Create the condition \"has mice\" for code 04L\n",
        "mice = (restaurants[\"VIOLATION CODE\"] == \"04L\")\n",
        "mice"
      ],
      "execution_count": 0,
      "outputs": []
    },
    {
      "cell_type": "code",
      "metadata": {
        "id": "PdYZfIrHSBnR",
        "colab_type": "code",
        "colab": {}
      },
      "source": [
        "# Apply the condition to the dataframe \"restaurants\" and store the result \n",
        "# in a dataframe called  has_mice\n",
        "has_mice = restaurants[mice]\n",
        "has_mice"
      ],
      "execution_count": 0,
      "outputs": []
    },
    {
      "cell_type": "code",
      "metadata": {
        "id": "NQqcmEkFSBnT",
        "colab_type": "code",
        "colab": {}
      },
      "source": [
        "restaurants[\"DBA\"].value_counts()[:20]"
      ],
      "execution_count": 0,
      "outputs": []
    },
    {
      "cell_type": "code",
      "metadata": {
        "id": "S7SmpX7RSBnU",
        "colab_type": "code",
        "colab": {}
      },
      "source": [
        "# List the most frequent DBA values in the dataframe\n",
        "has_mice[\"DBA\"].value_counts()[:20]"
      ],
      "execution_count": 0,
      "outputs": []
    },
    {
      "cell_type": "code",
      "metadata": {
        "id": "MjKwWqrtSBnW",
        "colab_type": "code",
        "colab": {}
      },
      "source": [
        "has_mice[\"CAMIS\"].value_counts()[:10]"
      ],
      "execution_count": 0,
      "outputs": []
    },
    {
      "cell_type": "code",
      "metadata": {
        "id": "7JrMo1f8SBnY",
        "colab_type": "code",
        "colab": {}
      },
      "source": [
        "condition = (has_mice[\"CAMIS\"] == '50036890')\n",
        "has_mice[condition]"
      ],
      "execution_count": 0,
      "outputs": []
    },
    {
      "cell_type": "markdown",
      "metadata": {
        "id": "QkSk__FPSBnb",
        "colab_type": "text"
      },
      "source": [
        "And we can use more complex conditions. "
      ]
    },
    {
      "cell_type": "code",
      "metadata": {
        "id": "qu89tvGVSBnb",
        "colab_type": "code",
        "colab": {}
      },
      "source": [
        "# AND in pandas is \"&\"\n",
        "# OR in pandas is \"|\"\n"
      ],
      "execution_count": 0,
      "outputs": []
    },
    {
      "cell_type": "code",
      "metadata": {
        "id": "dddY9XWzSBnd",
        "colab_type": "code",
        "colab": {}
      },
      "source": [
        "mice_manhattan =  ( (restaurants[\"VIOLATION CODE\"] == \"04L\") \n",
        "                    & (restaurants[\"BORO\"] == \"MANHATTAN\") \n",
        "                    & (restaurants[\"ZIPCODE\"] == \"10012\") )"
      ],
      "execution_count": 0,
      "outputs": []
    },
    {
      "cell_type": "code",
      "metadata": {
        "id": "kuNIKdYqSBnf",
        "colab_type": "code",
        "colab": {}
      },
      "source": [
        "has_mice_10012 = restaurants[mice_manhattan]\n",
        "has_mice_10012"
      ],
      "execution_count": 0,
      "outputs": []
    },
    {
      "cell_type": "code",
      "metadata": {
        "id": "3FMvcs2ASBnh",
        "colab_type": "code",
        "colab": {}
      },
      "source": [
        "has_mice_10012[\"DBA\"].value_counts()[:20]"
      ],
      "execution_count": 0,
      "outputs": []
    },
    {
      "cell_type": "code",
      "metadata": {
        "id": "TEXJdaBkSBni",
        "colab_type": "code",
        "colab": {}
      },
      "source": [
        "has_mice_10012[\"DBA\"].value_counts()[:10].plot(kind='barh')"
      ],
      "execution_count": 0,
      "outputs": []
    },
    {
      "cell_type": "markdown",
      "metadata": {
        "id": "IMULR9UuSBnk",
        "colab_type": "text"
      },
      "source": [
        "### Pivot Tables\n",
        "\n",
        "[Pivot tables](http://pandas.pydata.org/pandas-docs/stable/generated/pandas.pivot_table.html) is one of the most commonly used exploratory tools, and in Pandas they are extremely flexible. \n",
        "\n",
        "For example, let's try to count the number of restaurants that are inspected every day. "
      ]
    },
    {
      "cell_type": "code",
      "metadata": {
        "id": "hZq_fumqSBnk",
        "colab_type": "code",
        "colab": {}
      },
      "source": [
        "# Count the number of CAMIS values that appear on each date\n",
        "\n",
        "pivot = pd.pivot_table(\n",
        "    data = restaurants, \n",
        "    index = 'INSPECTION DATE', # specifies the rows\n",
        "    values = 'CAMIS',  # specifies the content of the cells\n",
        "    aggfunc = 'count' # we ask to count how many different CAMIS values we see\n",
        ")"
      ],
      "execution_count": 0,
      "outputs": []
    },
    {
      "cell_type": "code",
      "metadata": {
        "id": "V3bJS62DSBnm",
        "colab_type": "code",
        "colab": {}
      },
      "source": [
        "pivot"
      ],
      "execution_count": 0,
      "outputs": []
    },
    {
      "cell_type": "markdown",
      "metadata": {
        "id": "n5WCM0OMSBnn",
        "colab_type": "text"
      },
      "source": [
        "Now, let's plot this. By default, Pandas considers the \"index\" column to be the x-axis, and plots the rest."
      ]
    },
    {
      "cell_type": "code",
      "metadata": {
        "id": "LJRp9XxdSBno",
        "colab_type": "code",
        "colab": {}
      },
      "source": [
        "pivot.plot()"
      ],
      "execution_count": 0,
      "outputs": []
    },
    {
      "cell_type": "code",
      "metadata": {
        "id": "prFEhR6cSBnq",
        "colab_type": "code",
        "colab": {}
      },
      "source": [
        "pivot.head(5)"
      ],
      "execution_count": 0,
      "outputs": []
    },
    {
      "cell_type": "markdown",
      "metadata": {
        "id": "qRrL6lozSBnt",
        "colab_type": "text"
      },
      "source": [
        "#### Deleting rows from a DataFrame\n",
        "\n",
        "Hm, that '1900-01-01' line is messing things up. Let's delete it, using the `drop` command. Notice a few things:\n",
        "* We use the `pd.to_datetime` command to convert the '1900-01-01' string into a datetime data type.\n",
        "* We use the `axis='index'` parameter means that we delete a **row** with that index value. (The `axis='columns'` means that we delete a column.). Often you will see `axis=0` (equivalent to `axis='index'`) and `axis=1` (equivalent to `axis='columns'`).\n",
        "* The `inplace=True` means that we change directly the dataframe, instead of returning a new dataframe that does not have the deleted value."
      ]
    },
    {
      "cell_type": "code",
      "metadata": {
        "id": "oL7E-EzuSBnu",
        "colab_type": "code",
        "colab": {}
      },
      "source": [
        "pivot.drop(pd.to_datetime('1900-01-01'), axis='index', inplace=True) "
      ],
      "execution_count": 0,
      "outputs": []
    },
    {
      "cell_type": "code",
      "metadata": {
        "id": "D2aSoBh_SBnw",
        "colab_type": "code",
        "colab": {}
      },
      "source": [
        "pivot.head(5)"
      ],
      "execution_count": 0,
      "outputs": []
    },
    {
      "cell_type": "code",
      "metadata": {
        "id": "YqZXZH08SBnx",
        "colab_type": "code",
        "colab": {}
      },
      "source": [
        "pivot.tail()"
      ],
      "execution_count": 0,
      "outputs": []
    },
    {
      "cell_type": "markdown",
      "metadata": {
        "id": "V2_xbd6wSBnz",
        "colab_type": "text"
      },
      "source": [
        "And let's plot again."
      ]
    },
    {
      "cell_type": "code",
      "metadata": {
        "id": "RG-FcpmRSBnz",
        "colab_type": "code",
        "colab": {}
      },
      "source": [
        "pivot.plot(figsize=(10,5))"
      ],
      "execution_count": 0,
      "outputs": []
    },
    {
      "cell_type": "code",
      "metadata": {
        "id": "FoxEOL8BSBn1",
        "colab_type": "code",
        "colab": {}
      },
      "source": [
        "pivot.tail(50).plot()"
      ],
      "execution_count": 0,
      "outputs": []
    },
    {
      "cell_type": "markdown",
      "metadata": {
        "id": "fMbcnnkKSBn2",
        "colab_type": "text"
      },
      "source": [
        "#### Changing date granularity \n",
        "\n",
        "We can also use the [resample](http://pandas.pydata.org/pandas-docs/stable/generated/pandas.DataFrame.resample.html) command to change the frequency from one day, to, say, 7 days. Then we can compute, say, the average (`mean()`) for these days, or the total number (`sum()`) of inspections."
      ]
    },
    {
      "cell_type": "code",
      "metadata": {
        "id": "jajyYs4gSBn2",
        "colab_type": "code",
        "colab": {}
      },
      "source": [
        "pivot.resample('1W').sum().tail(10)"
      ],
      "execution_count": 0,
      "outputs": []
    },
    {
      "cell_type": "markdown",
      "metadata": {
        "id": "f8nETL8aSBn4",
        "colab_type": "text"
      },
      "source": [
        "Now, let's plot this. By default, Pandas considers the \"index\" column to be the x-axis, and plots the rest."
      ]
    },
    {
      "cell_type": "code",
      "metadata": {
        "id": "hiNr-3SwSBn4",
        "colab_type": "code",
        "colab": {}
      },
      "source": [
        "# Plot the average number of inspections, over 7-day periods\n",
        "pivot.resample('1M').sum().plot()"
      ],
      "execution_count": 0,
      "outputs": []
    },
    {
      "cell_type": "code",
      "metadata": {
        "id": "I63kRuLPSBn6",
        "colab_type": "code",
        "colab": {}
      },
      "source": [
        "# Plot the total number of inspections, over 1-month periods\n",
        "pivot.resample('1M').sum().plot()"
      ],
      "execution_count": 0,
      "outputs": []
    },
    {
      "cell_type": "code",
      "metadata": {
        "id": "a14YR2tDSBn7",
        "colab_type": "code",
        "colab": {}
      },
      "source": [
        "plot = pivot.resample('7D').mean().plot()\n",
        "plot.set_xlabel(\"Date of Inspection\")\n",
        "plot.set_ylabel(\"Average Number of Inspections (7-day average)\")\n",
        "plot.set_title(\"Analysis of Number of Inspections over Time\")"
      ],
      "execution_count": 0,
      "outputs": []
    },
    {
      "cell_type": "markdown",
      "metadata": {
        "id": "V1GigTQ3SBn_",
        "colab_type": "text"
      },
      "source": [
        "#### Pivot Table with two (or more) variables)\n",
        "\n",
        "We would like to break down the results by borough, so we add the `column` parameter."
      ]
    },
    {
      "cell_type": "code",
      "metadata": {
        "id": "z-oEpOxTSBn_",
        "colab_type": "code",
        "colab": {}
      },
      "source": [
        "pivot2 = pd.pivot_table(\n",
        "    data = restaurants, #\n",
        "    index = 'INSPECTION DATE', \n",
        "    columns = 'BORO', \n",
        "    values = 'CAMIS', \n",
        "    aggfunc = 'count'\n",
        ")\n",
        "pivot2.tail(10)"
      ],
      "execution_count": 0,
      "outputs": []
    },
    {
      "cell_type": "markdown",
      "metadata": {
        "id": "diufavigSBoA",
        "colab_type": "text"
      },
      "source": [
        "##### Deleting rows and columns\n",
        "\n",
        "Now, you will notice that there are a few columns and rows that are just noise. The first row with date *'1900-01-01'* is clearly noise, and the *'Missing'* columns the same. We can use the `drop` command of Pandas to drop these."
      ]
    },
    {
      "cell_type": "code",
      "metadata": {
        "id": "3HAffQUSSBoB",
        "colab_type": "code",
        "colab": {}
      },
      "source": [
        "# The axis='index' (or axis=0) means that we delete a row with that index value\n",
        "pivot2 = pivot2.drop(pd.to_datetime('1900-01-01'), axis='index') "
      ],
      "execution_count": 0,
      "outputs": []
    },
    {
      "cell_type": "code",
      "metadata": {
        "id": "O8dk9pTDSBoE",
        "colab_type": "code",
        "colab": {}
      },
      "source": [
        "# The axis='columns' (or axis=1) means that we delete a columns with that value\n",
        "pivot2 = pivot2.drop('Missing', axis='columns')"
      ],
      "execution_count": 0,
      "outputs": []
    },
    {
      "cell_type": "code",
      "metadata": {
        "id": "2UA0Tim8SBoF",
        "colab_type": "code",
        "colab": {}
      },
      "source": [
        "pivot2.tail(5)"
      ],
      "execution_count": 0,
      "outputs": []
    },
    {
      "cell_type": "code",
      "metadata": {
        "id": "W2tYOBVUSBoI",
        "colab_type": "code",
        "colab": {}
      },
      "source": [
        "pivot2.plot()"
      ],
      "execution_count": 0,
      "outputs": []
    },
    {
      "cell_type": "code",
      "metadata": {
        "id": "WnlL-CloSBoJ",
        "colab_type": "code",
        "colab": {}
      },
      "source": [
        "# We resample the index, to keep only dates every one month\n",
        "# For that one month period, we compute the average value\n",
        "pivot2.resample('1M').mean().tail(10)"
      ],
      "execution_count": 0,
      "outputs": []
    },
    {
      "cell_type": "code",
      "metadata": {
        "id": "YFFEXbAvSBoK",
        "colab_type": "code",
        "colab": {}
      },
      "source": [
        "# If we plot a dataframe then by default the index column\n",
        "# in our case the INSPECTION DATE becomes the x-asis\n",
        "# and all the columns become separate lines in the plot\n",
        "pivot2.resample('1M').mean().plot()\n",
        "\n",
        "# Potential Exercise, if we have time: \n",
        "# Drop the last date, which corresponds to an incomplete month"
      ],
      "execution_count": 0,
      "outputs": []
    },
    {
      "cell_type": "markdown",
      "metadata": {
        "id": "UnBCbhWISBoM",
        "colab_type": "text"
      },
      "source": [
        "### (Optional, FYI) Advanced Pivot Tables\n",
        "\n",
        "We can also add multiple attributes in the index and columns. It is also possible to have multiple aggregation functions, and we can even define our own aggregation functions."
      ]
    },
    {
      "cell_type": "code",
      "metadata": {
        "id": "lKsEXAqoSBoM",
        "colab_type": "code",
        "colab": {}
      },
      "source": [
        "# We write a function that returns the \n",
        "# number of unique items in a list x \n",
        "def count_unique(x):\n",
        "    return len(set(x))\n",
        "\n",
        "# We break down by BORO and GRADE, and also calculate \n",
        "# inspections in unique (unique restaurants) \n",
        "# and non-unique entries (effectuvely, violations)\n",
        "pivot_advanced = pd.pivot_table(\n",
        "    data = restaurants, #\n",
        "    index = 'GRADE DATE', \n",
        "    columns = ['BORO', 'GRADE'],\n",
        "    values = 'CAMIS', \n",
        "    aggfunc = ['count', count_unique]\n",
        ")\n",
        "\n",
        "# Take the total number of inspections (unique and non-unique)\n",
        "agg = pivot_advanced.resample('1M').sum()\n",
        "\n",
        "# Show the last 5 entries and show the transpose (.T) \n",
        "agg.tail().T"
      ],
      "execution_count": 0,
      "outputs": []
    },
    {
      "cell_type": "markdown",
      "metadata": {
        "id": "qpUKhNvCSBoO",
        "colab_type": "text"
      },
      "source": [
        "### Exercise 1 \n",
        "\n",
        "Now let's do the same exercise, but instead of counting the number of inspections, we want to compute the average score assigned by the inspectors. Hint: We will need to change the `values` and the `aggfunc` parameters in the `pivot_table` function above."
      ]
    },
    {
      "cell_type": "code",
      "metadata": {
        "id": "-XAgMB8GSBoO",
        "colab_type": "code",
        "colab": {}
      },
      "source": [
        "# your code here"
      ],
      "execution_count": 0,
      "outputs": []
    },
    {
      "cell_type": "markdown",
      "metadata": {
        "solution2": "hidden",
        "solution2_first": true,
        "id": "W_Jtj1spSBoP",
        "colab_type": "text"
      },
      "source": [
        "#### Solution"
      ]
    },
    {
      "cell_type": "code",
      "metadata": {
        "solution2": "hidden",
        "id": "iQB51vXxSBoP",
        "colab_type": "code",
        "colab": {}
      },
      "source": [
        "pivot = pd.pivot_table(\n",
        "    data = restaurants, \n",
        "    index = 'INSPECTION DATE', # specifies the rows\n",
        "    values = 'SCORE',  # specifies the content of the cells\n",
        "    aggfunc = 'mean' # compute the average SCORE\n",
        ")"
      ],
      "execution_count": 0,
      "outputs": []
    },
    {
      "cell_type": "code",
      "metadata": {
        "solution2": "hidden",
        "id": "cfc3PjowSBoQ",
        "colab_type": "code",
        "colab": {}
      },
      "source": [
        "pivot.plot(figsize=(10,4))"
      ],
      "execution_count": 0,
      "outputs": []
    },
    {
      "cell_type": "code",
      "metadata": {
        "solution2": "hidden",
        "id": "Ct1NXmW1SBoS",
        "colab_type": "code",
        "colab": {}
      },
      "source": [
        "pivot.resample('1M').mean().tail(10)"
      ],
      "execution_count": 0,
      "outputs": []
    },
    {
      "cell_type": "markdown",
      "metadata": {
        "id": "EV3Yto6sSBoT",
        "colab_type": "text"
      },
      "source": [
        "\n",
        "\n",
        "### Exercise 2\n",
        "\n",
        "We now want to examine if different cuisines have different inspection scores. Compute the average inspection score by cuisine. Use the `sort_values()` command ([documentation](https://pandas.pydata.org/pandas-docs/stable/generated/pandas.DataFrame.sort_values.html)) to order cuisines by their inspection scores."
      ]
    },
    {
      "cell_type": "code",
      "metadata": {
        "id": "RiqIjGFLSBoT",
        "colab_type": "code",
        "colab": {}
      },
      "source": [
        "# your code here"
      ],
      "execution_count": 0,
      "outputs": []
    },
    {
      "cell_type": "markdown",
      "metadata": {
        "solution2": "hidden",
        "solution2_first": true,
        "id": "gdOWDHBuSBoU",
        "colab_type": "text"
      },
      "source": [
        "#### Solution"
      ]
    },
    {
      "cell_type": "code",
      "metadata": {
        "solution2": "hidden",
        "id": "GcyIeRJnSBoU",
        "colab_type": "code",
        "colab": {}
      },
      "source": [
        "pivot = pd.pivot_table(\n",
        "    data = restaurants, \n",
        "    index = 'INSPECTION DATE', # dates are the rows\n",
        "    columns = 'CUISINE DESCRIPTION', # cuisines are the columns\n",
        "    values = 'SCORE',  # we analyze the SCORE\n",
        "    aggfunc = 'mean' # compute the average SCORE\n",
        ")\n",
        "# Select 3 columns (american, frenchn, chinese), compute the average score for a month\n",
        "# and plot the results\n",
        "pivot[ [\"American\", \"French\", \"Chinese\"] ].resample('1M').mean().plot(figsize=(10,4))"
      ],
      "execution_count": 0,
      "outputs": []
    }
  ]
}